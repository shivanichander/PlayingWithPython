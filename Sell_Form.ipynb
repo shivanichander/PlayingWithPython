{
 "cells": [
  {
   "cell_type": "code",
   "execution_count": 52,
   "metadata": {},
   "outputs": [],
   "source": [
    "import pandas as pd\n",
    "import json\n",
    "\n",
    "#Read Data from Path\n",
    "path = '../sellform.csv'\n",
    "data = pd.read_csv(path)"
   ]
  },
  {
   "cell_type": "code",
   "execution_count": 50,
   "metadata": {},
   "outputs": [],
   "source": [
    "#Get Column Names and store in a list \n",
    "data0 = data[\"Name of the Product\"][0]\n",
    "data0dict = json.loads(data0)\n",
    "columnNames = []\n",
    "for pair in data0dict:\n",
    "        columnNames.append(pair['fieldName'])\n",
    "\n",
    "#Create a list of lists, where each internal list is a row of data\n",
    "dataList = []\n",
    "for data_item in data[\"Name of the Product\"]:\n",
    "    data_dict = json.loads(data_item)\n",
    "    list = []\n",
    "    for pair in data_dict:\n",
    "        list.append(pair['fieldValue'])\n",
    "    dataList.append(list)"
   ]
  },
  {
   "cell_type": "code",
   "execution_count": 51,
   "metadata": {},
   "outputs": [],
   "source": [
    "#Export the dataframe (which is a list of lists)\n",
    "df = pd.DataFrame(dataList, columns = columnNames)\n",
    "df.to_csv('../newSellForm.csv')"
   ]
  }
 ],
 "metadata": {
  "kernelspec": {
   "display_name": "Python 3",
   "language": "python",
   "name": "python3"
  },
  "language_info": {
   "codemirror_mode": {
    "name": "ipython",
    "version": 3
   },
   "file_extension": ".py",
   "mimetype": "text/x-python",
   "name": "python",
   "nbconvert_exporter": "python",
   "pygments_lexer": "ipython3",
   "version": "3.6.11"
  }
 },
 "nbformat": 4,
 "nbformat_minor": 4
}
